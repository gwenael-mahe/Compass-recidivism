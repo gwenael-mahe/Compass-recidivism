{
 "cells": [
  {
   "cell_type": "markdown",
   "metadata": {},
   "source": [
    "# Compass recidivism"
   ]
  },
  {
   "cell_type": "markdown",
   "metadata": {},
   "source": [
    "## Import"
   ]
  },
  {
   "cell_type": "code",
   "execution_count": 1,
   "metadata": {},
   "outputs": [
    {
     "name": "stderr",
     "output_type": "stream",
     "text": [
      "C:\\ProgramData\\Anaconda3\\lib\\site-packages\\pandas\\core\\computation\\expressions.py:20: UserWarning: Pandas requires version '2.7.3' or newer of 'numexpr' (version '2.7.1' currently installed).\n",
      "  from pandas.core.computation.check import NUMEXPR_INSTALLED\n"
     ]
    }
   ],
   "source": [
    "import pandas as pd\n",
    "import matplotlib as plt\n",
    "from datetime import datetime\n",
    "from sklearn.model_selection import train_test_split\n",
    "from sklearn import preprocessing\n",
    "import numpy as np\n",
    "from sklearn.linear_model import LogisticRegression\n",
    "from sklearn.metrics import confusion_matrix, classification_report\n",
    "import shap"
   ]
  },
  {
   "cell_type": "code",
   "execution_count": 2,
   "metadata": {},
   "outputs": [],
   "source": [
    "df = pd.read_csv(\"src/compas-scores-raw.csv\")"
   ]
  },
  {
   "cell_type": "markdown",
   "metadata": {},
   "source": [
    "## Data analysis"
   ]
  },
  {
   "cell_type": "code",
   "execution_count": 3,
   "metadata": {},
   "outputs": [
    {
     "data": {
      "text/html": [
       "<div>\n",
       "<style scoped>\n",
       "    .dataframe tbody tr th:only-of-type {\n",
       "        vertical-align: middle;\n",
       "    }\n",
       "\n",
       "    .dataframe tbody tr th {\n",
       "        vertical-align: top;\n",
       "    }\n",
       "\n",
       "    .dataframe thead th {\n",
       "        text-align: right;\n",
       "    }\n",
       "</style>\n",
       "<table border=\"1\" class=\"dataframe\">\n",
       "  <thead>\n",
       "    <tr style=\"text-align: right;\">\n",
       "      <th></th>\n",
       "      <th>Person_ID</th>\n",
       "      <th>AssessmentID</th>\n",
       "      <th>Case_ID</th>\n",
       "      <th>Agency_Text</th>\n",
       "      <th>LastName</th>\n",
       "      <th>FirstName</th>\n",
       "      <th>MiddleName</th>\n",
       "      <th>Sex_Code_Text</th>\n",
       "      <th>Ethnic_Code_Text</th>\n",
       "      <th>DateOfBirth</th>\n",
       "      <th>...</th>\n",
       "      <th>RecSupervisionLevel</th>\n",
       "      <th>RecSupervisionLevelText</th>\n",
       "      <th>Scale_ID</th>\n",
       "      <th>DisplayText</th>\n",
       "      <th>RawScore</th>\n",
       "      <th>DecileScore</th>\n",
       "      <th>ScoreText</th>\n",
       "      <th>AssessmentType</th>\n",
       "      <th>IsCompleted</th>\n",
       "      <th>IsDeleted</th>\n",
       "    </tr>\n",
       "  </thead>\n",
       "  <tbody>\n",
       "    <tr>\n",
       "      <th>0</th>\n",
       "      <td>50844</td>\n",
       "      <td>57167</td>\n",
       "      <td>51950</td>\n",
       "      <td>PRETRIAL</td>\n",
       "      <td>Fisher</td>\n",
       "      <td>Kevin</td>\n",
       "      <td>NaN</td>\n",
       "      <td>Male</td>\n",
       "      <td>Caucasian</td>\n",
       "      <td>12/05/92</td>\n",
       "      <td>...</td>\n",
       "      <td>1</td>\n",
       "      <td>Low</td>\n",
       "      <td>7</td>\n",
       "      <td>Risk of Violence</td>\n",
       "      <td>-2.08</td>\n",
       "      <td>4</td>\n",
       "      <td>Low</td>\n",
       "      <td>New</td>\n",
       "      <td>1</td>\n",
       "      <td>0</td>\n",
       "    </tr>\n",
       "    <tr>\n",
       "      <th>1</th>\n",
       "      <td>50844</td>\n",
       "      <td>57167</td>\n",
       "      <td>51950</td>\n",
       "      <td>PRETRIAL</td>\n",
       "      <td>Fisher</td>\n",
       "      <td>Kevin</td>\n",
       "      <td>NaN</td>\n",
       "      <td>Male</td>\n",
       "      <td>Caucasian</td>\n",
       "      <td>12/05/92</td>\n",
       "      <td>...</td>\n",
       "      <td>1</td>\n",
       "      <td>Low</td>\n",
       "      <td>8</td>\n",
       "      <td>Risk of Recidivism</td>\n",
       "      <td>-1.06</td>\n",
       "      <td>2</td>\n",
       "      <td>Low</td>\n",
       "      <td>New</td>\n",
       "      <td>1</td>\n",
       "      <td>0</td>\n",
       "    </tr>\n",
       "    <tr>\n",
       "      <th>2</th>\n",
       "      <td>50844</td>\n",
       "      <td>57167</td>\n",
       "      <td>51950</td>\n",
       "      <td>PRETRIAL</td>\n",
       "      <td>Fisher</td>\n",
       "      <td>Kevin</td>\n",
       "      <td>NaN</td>\n",
       "      <td>Male</td>\n",
       "      <td>Caucasian</td>\n",
       "      <td>12/05/92</td>\n",
       "      <td>...</td>\n",
       "      <td>1</td>\n",
       "      <td>Low</td>\n",
       "      <td>18</td>\n",
       "      <td>Risk of Failure to Appear</td>\n",
       "      <td>15.00</td>\n",
       "      <td>1</td>\n",
       "      <td>Low</td>\n",
       "      <td>New</td>\n",
       "      <td>1</td>\n",
       "      <td>0</td>\n",
       "    </tr>\n",
       "    <tr>\n",
       "      <th>3</th>\n",
       "      <td>50848</td>\n",
       "      <td>57174</td>\n",
       "      <td>51956</td>\n",
       "      <td>PRETRIAL</td>\n",
       "      <td>KENDALL</td>\n",
       "      <td>KEVIN</td>\n",
       "      <td>NaN</td>\n",
       "      <td>Male</td>\n",
       "      <td>Caucasian</td>\n",
       "      <td>09/16/84</td>\n",
       "      <td>...</td>\n",
       "      <td>1</td>\n",
       "      <td>Low</td>\n",
       "      <td>7</td>\n",
       "      <td>Risk of Violence</td>\n",
       "      <td>-2.84</td>\n",
       "      <td>2</td>\n",
       "      <td>Low</td>\n",
       "      <td>New</td>\n",
       "      <td>1</td>\n",
       "      <td>0</td>\n",
       "    </tr>\n",
       "    <tr>\n",
       "      <th>4</th>\n",
       "      <td>50848</td>\n",
       "      <td>57174</td>\n",
       "      <td>51956</td>\n",
       "      <td>PRETRIAL</td>\n",
       "      <td>KENDALL</td>\n",
       "      <td>KEVIN</td>\n",
       "      <td>NaN</td>\n",
       "      <td>Male</td>\n",
       "      <td>Caucasian</td>\n",
       "      <td>09/16/84</td>\n",
       "      <td>...</td>\n",
       "      <td>1</td>\n",
       "      <td>Low</td>\n",
       "      <td>8</td>\n",
       "      <td>Risk of Recidivism</td>\n",
       "      <td>-1.50</td>\n",
       "      <td>1</td>\n",
       "      <td>Low</td>\n",
       "      <td>New</td>\n",
       "      <td>1</td>\n",
       "      <td>0</td>\n",
       "    </tr>\n",
       "  </tbody>\n",
       "</table>\n",
       "<p>5 rows × 28 columns</p>\n",
       "</div>"
      ],
      "text/plain": [
       "   Person_ID  AssessmentID  Case_ID Agency_Text LastName FirstName MiddleName   \n",
       "0      50844         57167    51950    PRETRIAL   Fisher     Kevin        NaN  \\\n",
       "1      50844         57167    51950    PRETRIAL   Fisher     Kevin        NaN   \n",
       "2      50844         57167    51950    PRETRIAL   Fisher     Kevin        NaN   \n",
       "3      50848         57174    51956    PRETRIAL  KENDALL     KEVIN        NaN   \n",
       "4      50848         57174    51956    PRETRIAL  KENDALL     KEVIN        NaN   \n",
       "\n",
       "  Sex_Code_Text Ethnic_Code_Text DateOfBirth  ...  RecSupervisionLevel   \n",
       "0          Male        Caucasian    12/05/92  ...                    1  \\\n",
       "1          Male        Caucasian    12/05/92  ...                    1   \n",
       "2          Male        Caucasian    12/05/92  ...                    1   \n",
       "3          Male        Caucasian    09/16/84  ...                    1   \n",
       "4          Male        Caucasian    09/16/84  ...                    1   \n",
       "\n",
       "  RecSupervisionLevelText Scale_ID                DisplayText RawScore   \n",
       "0                     Low        7           Risk of Violence    -2.08  \\\n",
       "1                     Low        8         Risk of Recidivism    -1.06   \n",
       "2                     Low       18  Risk of Failure to Appear    15.00   \n",
       "3                     Low        7           Risk of Violence    -2.84   \n",
       "4                     Low        8         Risk of Recidivism    -1.50   \n",
       "\n",
       "  DecileScore ScoreText AssessmentType  IsCompleted IsDeleted  \n",
       "0           4       Low            New            1         0  \n",
       "1           2       Low            New            1         0  \n",
       "2           1       Low            New            1         0  \n",
       "3           2       Low            New            1         0  \n",
       "4           1       Low            New            1         0  \n",
       "\n",
       "[5 rows x 28 columns]"
      ]
     },
     "execution_count": 3,
     "metadata": {},
     "output_type": "execute_result"
    }
   ],
   "source": [
    "df.head()"
   ]
  },
  {
   "cell_type": "code",
   "execution_count": 4,
   "metadata": {},
   "outputs": [
    {
     "name": "stdout",
     "output_type": "stream",
     "text": [
      "<class 'pandas.core.frame.DataFrame'>\n",
      "RangeIndex: 60843 entries, 0 to 60842\n",
      "Data columns (total 28 columns):\n",
      " #   Column                   Non-Null Count  Dtype  \n",
      "---  ------                   --------------  -----  \n",
      " 0   Person_ID                60843 non-null  int64  \n",
      " 1   AssessmentID             60843 non-null  int64  \n",
      " 2   Case_ID                  60843 non-null  int64  \n",
      " 3   Agency_Text              60843 non-null  object \n",
      " 4   LastName                 60843 non-null  object \n",
      " 5   FirstName                60843 non-null  object \n",
      " 6   MiddleName               15624 non-null  object \n",
      " 7   Sex_Code_Text            60843 non-null  object \n",
      " 8   Ethnic_Code_Text         60843 non-null  object \n",
      " 9   DateOfBirth              60843 non-null  object \n",
      " 10  ScaleSet_ID              60843 non-null  int64  \n",
      " 11  ScaleSet                 60843 non-null  object \n",
      " 12  AssessmentReason         60843 non-null  object \n",
      " 13  Language                 60843 non-null  object \n",
      " 14  LegalStatus              60843 non-null  object \n",
      " 15  CustodyStatus            60843 non-null  object \n",
      " 16  MaritalStatus            60843 non-null  object \n",
      " 17  Screening_Date           60843 non-null  object \n",
      " 18  RecSupervisionLevel      60843 non-null  int64  \n",
      " 19  RecSupervisionLevelText  60843 non-null  object \n",
      " 20  Scale_ID                 60843 non-null  int64  \n",
      " 21  DisplayText              60843 non-null  object \n",
      " 22  RawScore                 60843 non-null  float64\n",
      " 23  DecileScore              60843 non-null  int64  \n",
      " 24  ScoreText                60798 non-null  object \n",
      " 25  AssessmentType           60843 non-null  object \n",
      " 26  IsCompleted              60843 non-null  int64  \n",
      " 27  IsDeleted                60843 non-null  int64  \n",
      "dtypes: float64(1), int64(9), object(18)\n",
      "memory usage: 13.0+ MB\n"
     ]
    }
   ],
   "source": [
    "df.info()"
   ]
  },
  {
   "cell_type": "code",
   "execution_count": 5,
   "metadata": {},
   "outputs": [
    {
     "data": {
      "text/html": [
       "<div>\n",
       "<style scoped>\n",
       "    .dataframe tbody tr th:only-of-type {\n",
       "        vertical-align: middle;\n",
       "    }\n",
       "\n",
       "    .dataframe tbody tr th {\n",
       "        vertical-align: top;\n",
       "    }\n",
       "\n",
       "    .dataframe thead th {\n",
       "        text-align: right;\n",
       "    }\n",
       "</style>\n",
       "<table border=\"1\" class=\"dataframe\">\n",
       "  <thead>\n",
       "    <tr style=\"text-align: right;\">\n",
       "      <th></th>\n",
       "      <th>Person_ID</th>\n",
       "      <th>AssessmentID</th>\n",
       "      <th>Case_ID</th>\n",
       "      <th>ScaleSet_ID</th>\n",
       "      <th>RecSupervisionLevel</th>\n",
       "      <th>Scale_ID</th>\n",
       "      <th>RawScore</th>\n",
       "      <th>DecileScore</th>\n",
       "      <th>IsCompleted</th>\n",
       "      <th>IsDeleted</th>\n",
       "    </tr>\n",
       "  </thead>\n",
       "  <tbody>\n",
       "    <tr>\n",
       "      <th>count</th>\n",
       "      <td>60843.000000</td>\n",
       "      <td>60843.000000</td>\n",
       "      <td>60843.000000</td>\n",
       "      <td>60843.000000</td>\n",
       "      <td>60843.000000</td>\n",
       "      <td>60843.000000</td>\n",
       "      <td>60843.000000</td>\n",
       "      <td>60843.000000</td>\n",
       "      <td>60843.0</td>\n",
       "      <td>60843.0</td>\n",
       "    </tr>\n",
       "    <tr>\n",
       "      <th>mean</th>\n",
       "      <td>53683.206154</td>\n",
       "      <td>68061.029190</td>\n",
       "      <td>60209.128149</td>\n",
       "      <td>21.819536</td>\n",
       "      <td>1.630048</td>\n",
       "      <td>11.000000</td>\n",
       "      <td>5.081457</td>\n",
       "      <td>3.571701</td>\n",
       "      <td>1.0</td>\n",
       "      <td>0.0</td>\n",
       "    </tr>\n",
       "    <tr>\n",
       "      <th>std</th>\n",
       "      <td>14363.648515</td>\n",
       "      <td>7320.208226</td>\n",
       "      <td>9638.501654</td>\n",
       "      <td>0.932614</td>\n",
       "      <td>0.944220</td>\n",
       "      <td>4.966596</td>\n",
       "      <td>10.080518</td>\n",
       "      <td>2.617854</td>\n",
       "      <td>0.0</td>\n",
       "      <td>0.0</td>\n",
       "    </tr>\n",
       "    <tr>\n",
       "      <th>min</th>\n",
       "      <td>656.000000</td>\n",
       "      <td>649.000000</td>\n",
       "      <td>350.000000</td>\n",
       "      <td>17.000000</td>\n",
       "      <td>1.000000</td>\n",
       "      <td>7.000000</td>\n",
       "      <td>-4.790000</td>\n",
       "      <td>-1.000000</td>\n",
       "      <td>1.0</td>\n",
       "      <td>0.0</td>\n",
       "    </tr>\n",
       "    <tr>\n",
       "      <th>25%</th>\n",
       "      <td>52039.000000</td>\n",
       "      <td>62582.000000</td>\n",
       "      <td>56021.000000</td>\n",
       "      <td>22.000000</td>\n",
       "      <td>1.000000</td>\n",
       "      <td>7.000000</td>\n",
       "      <td>-2.090000</td>\n",
       "      <td>1.000000</td>\n",
       "      <td>1.0</td>\n",
       "      <td>0.0</td>\n",
       "    </tr>\n",
       "    <tr>\n",
       "      <th>50%</th>\n",
       "      <td>57321.000000</td>\n",
       "      <td>68229.000000</td>\n",
       "      <td>61261.000000</td>\n",
       "      <td>22.000000</td>\n",
       "      <td>1.000000</td>\n",
       "      <td>8.000000</td>\n",
       "      <td>-0.710000</td>\n",
       "      <td>3.000000</td>\n",
       "      <td>1.0</td>\n",
       "      <td>0.0</td>\n",
       "    </tr>\n",
       "    <tr>\n",
       "      <th>75%</th>\n",
       "      <td>62748.000000</td>\n",
       "      <td>73870.000000</td>\n",
       "      <td>66554.000000</td>\n",
       "      <td>22.000000</td>\n",
       "      <td>2.000000</td>\n",
       "      <td>18.000000</td>\n",
       "      <td>14.000000</td>\n",
       "      <td>5.000000</td>\n",
       "      <td>1.0</td>\n",
       "      <td>0.0</td>\n",
       "    </tr>\n",
       "    <tr>\n",
       "      <th>max</th>\n",
       "      <td>68608.000000</td>\n",
       "      <td>79678.000000</td>\n",
       "      <td>72045.000000</td>\n",
       "      <td>22.000000</td>\n",
       "      <td>4.000000</td>\n",
       "      <td>18.000000</td>\n",
       "      <td>51.000000</td>\n",
       "      <td>10.000000</td>\n",
       "      <td>1.0</td>\n",
       "      <td>0.0</td>\n",
       "    </tr>\n",
       "  </tbody>\n",
       "</table>\n",
       "</div>"
      ],
      "text/plain": [
       "          Person_ID  AssessmentID       Case_ID   ScaleSet_ID   \n",
       "count  60843.000000  60843.000000  60843.000000  60843.000000  \\\n",
       "mean   53683.206154  68061.029190  60209.128149     21.819536   \n",
       "std    14363.648515   7320.208226   9638.501654      0.932614   \n",
       "min      656.000000    649.000000    350.000000     17.000000   \n",
       "25%    52039.000000  62582.000000  56021.000000     22.000000   \n",
       "50%    57321.000000  68229.000000  61261.000000     22.000000   \n",
       "75%    62748.000000  73870.000000  66554.000000     22.000000   \n",
       "max    68608.000000  79678.000000  72045.000000     22.000000   \n",
       "\n",
       "       RecSupervisionLevel      Scale_ID      RawScore   DecileScore   \n",
       "count         60843.000000  60843.000000  60843.000000  60843.000000  \\\n",
       "mean              1.630048     11.000000      5.081457      3.571701   \n",
       "std               0.944220      4.966596     10.080518      2.617854   \n",
       "min               1.000000      7.000000     -4.790000     -1.000000   \n",
       "25%               1.000000      7.000000     -2.090000      1.000000   \n",
       "50%               1.000000      8.000000     -0.710000      3.000000   \n",
       "75%               2.000000     18.000000     14.000000      5.000000   \n",
       "max               4.000000     18.000000     51.000000     10.000000   \n",
       "\n",
       "       IsCompleted  IsDeleted  \n",
       "count      60843.0    60843.0  \n",
       "mean           1.0        0.0  \n",
       "std            0.0        0.0  \n",
       "min            1.0        0.0  \n",
       "25%            1.0        0.0  \n",
       "50%            1.0        0.0  \n",
       "75%            1.0        0.0  \n",
       "max            1.0        0.0  "
      ]
     },
     "execution_count": 5,
     "metadata": {},
     "output_type": "execute_result"
    }
   ],
   "source": [
    "df.describe()"
   ]
  },
  {
   "cell_type": "code",
   "execution_count": 6,
   "metadata": {},
   "outputs": [],
   "source": [
    "df['Ethnic_Code_Text'] = df['Ethnic_Code_Text'].replace('African-Am', 'African-American')"
   ]
  },
  {
   "cell_type": "code",
   "execution_count": 7,
   "metadata": {},
   "outputs": [
    {
     "data": {
      "text/plain": [
       "<AxesSubplot:xlabel='Ethnic_Code_Text'>"
      ]
     },
     "execution_count": 7,
     "metadata": {},
     "output_type": "execute_result"
    },
    {
     "data": {
      "image/png": "[encoded data removed]",
      "text/plain": [
       "<Figure size 432x288 with 1 Axes>"
      ]
     },
     "metadata": {
      "needs_background": "light"
     },
     "output_type": "display_data"
    }
   ],
   "source": [
    "text_by_race = df.groupby(['Ethnic_Code_Text', 'ScoreText'], sort=True)['Person_ID'].size()\n",
    "text_by_race.unstack().plot.bar(stacked=False)"
   ]
  },
  {
   "cell_type": "code",
   "execution_count": 8,
   "metadata": {},
   "outputs": [
    {
     "data": {
      "text/html": [
       "<div>\n",
       "<style scoped>\n",
       "    .dataframe tbody tr th:only-of-type {\n",
       "        vertical-align: middle;\n",
       "    }\n",
       "\n",
       "    .dataframe tbody tr th {\n",
       "        vertical-align: top;\n",
       "    }\n",
       "\n",
       "    .dataframe thead th {\n",
       "        text-align: right;\n",
       "    }\n",
       "</style>\n",
       "<table border=\"1\" class=\"dataframe\">\n",
       "  <thead>\n",
       "    <tr style=\"text-align: right;\">\n",
       "      <th></th>\n",
       "      <th>Ethnic_Code_Text</th>\n",
       "      <th>ScoreText</th>\n",
       "      <th>count</th>\n",
       "      <th>count_percentage</th>\n",
       "    </tr>\n",
       "  </thead>\n",
       "  <tbody>\n",
       "    <tr>\n",
       "      <th>0</th>\n",
       "      <td>African-American</td>\n",
       "      <td>High</td>\n",
       "      <td>4560</td>\n",
       "      <td>16.845838</td>\n",
       "    </tr>\n",
       "    <tr>\n",
       "      <th>1</th>\n",
       "      <td>African-American</td>\n",
       "      <td>Low</td>\n",
       "      <td>15485</td>\n",
       "      <td>57.205660</td>\n",
       "    </tr>\n",
       "    <tr>\n",
       "      <th>2</th>\n",
       "      <td>African-American</td>\n",
       "      <td>Medium</td>\n",
       "      <td>7008</td>\n",
       "      <td>25.889394</td>\n",
       "    </tr>\n",
       "    <tr>\n",
       "      <th>3</th>\n",
       "      <td>Arabic</td>\n",
       "      <td>High</td>\n",
       "      <td>5</td>\n",
       "      <td>6.666667</td>\n",
       "    </tr>\n",
       "    <tr>\n",
       "      <th>4</th>\n",
       "      <td>Arabic</td>\n",
       "      <td>Low</td>\n",
       "      <td>58</td>\n",
       "      <td>77.333333</td>\n",
       "    </tr>\n",
       "    <tr>\n",
       "      <th>5</th>\n",
       "      <td>Arabic</td>\n",
       "      <td>Medium</td>\n",
       "      <td>12</td>\n",
       "      <td>16.000000</td>\n",
       "    </tr>\n",
       "    <tr>\n",
       "      <th>6</th>\n",
       "      <td>Asian</td>\n",
       "      <td>High</td>\n",
       "      <td>14</td>\n",
       "      <td>4.320988</td>\n",
       "    </tr>\n",
       "    <tr>\n",
       "      <th>7</th>\n",
       "      <td>Asian</td>\n",
       "      <td>Low</td>\n",
       "      <td>278</td>\n",
       "      <td>85.802469</td>\n",
       "    </tr>\n",
       "    <tr>\n",
       "      <th>8</th>\n",
       "      <td>Asian</td>\n",
       "      <td>Medium</td>\n",
       "      <td>32</td>\n",
       "      <td>9.876543</td>\n",
       "    </tr>\n",
       "    <tr>\n",
       "      <th>9</th>\n",
       "      <td>Caucasian</td>\n",
       "      <td>High</td>\n",
       "      <td>1648</td>\n",
       "      <td>7.565533</td>\n",
       "    </tr>\n",
       "    <tr>\n",
       "      <th>10</th>\n",
       "      <td>Caucasian</td>\n",
       "      <td>Low</td>\n",
       "      <td>16361</td>\n",
       "      <td>75.109030</td>\n",
       "    </tr>\n",
       "    <tr>\n",
       "      <th>11</th>\n",
       "      <td>Caucasian</td>\n",
       "      <td>Medium</td>\n",
       "      <td>3756</td>\n",
       "      <td>17.242804</td>\n",
       "    </tr>\n",
       "    <tr>\n",
       "      <th>12</th>\n",
       "      <td>Hispanic</td>\n",
       "      <td>High</td>\n",
       "      <td>473</td>\n",
       "      <td>5.410661</td>\n",
       "    </tr>\n",
       "    <tr>\n",
       "      <th>13</th>\n",
       "      <td>Hispanic</td>\n",
       "      <td>Low</td>\n",
       "      <td>6963</td>\n",
       "      <td>79.649966</td>\n",
       "    </tr>\n",
       "    <tr>\n",
       "      <th>14</th>\n",
       "      <td>Hispanic</td>\n",
       "      <td>Medium</td>\n",
       "      <td>1297</td>\n",
       "      <td>14.836422</td>\n",
       "    </tr>\n",
       "    <tr>\n",
       "      <th>15</th>\n",
       "      <td>Native American</td>\n",
       "      <td>High</td>\n",
       "      <td>32</td>\n",
       "      <td>14.611872</td>\n",
       "    </tr>\n",
       "    <tr>\n",
       "      <th>16</th>\n",
       "      <td>Native American</td>\n",
       "      <td>Low</td>\n",
       "      <td>140</td>\n",
       "      <td>63.926941</td>\n",
       "    </tr>\n",
       "    <tr>\n",
       "      <th>17</th>\n",
       "      <td>Native American</td>\n",
       "      <td>Medium</td>\n",
       "      <td>47</td>\n",
       "      <td>21.461187</td>\n",
       "    </tr>\n",
       "    <tr>\n",
       "      <th>18</th>\n",
       "      <td>Oriental</td>\n",
       "      <td>High</td>\n",
       "      <td>2</td>\n",
       "      <td>5.128205</td>\n",
       "    </tr>\n",
       "    <tr>\n",
       "      <th>19</th>\n",
       "      <td>Oriental</td>\n",
       "      <td>Low</td>\n",
       "      <td>33</td>\n",
       "      <td>84.615385</td>\n",
       "    </tr>\n",
       "    <tr>\n",
       "      <th>20</th>\n",
       "      <td>Oriental</td>\n",
       "      <td>Medium</td>\n",
       "      <td>4</td>\n",
       "      <td>10.256410</td>\n",
       "    </tr>\n",
       "    <tr>\n",
       "      <th>21</th>\n",
       "      <td>Other</td>\n",
       "      <td>High</td>\n",
       "      <td>89</td>\n",
       "      <td>3.433642</td>\n",
       "    </tr>\n",
       "    <tr>\n",
       "      <th>22</th>\n",
       "      <td>Other</td>\n",
       "      <td>Low</td>\n",
       "      <td>2169</td>\n",
       "      <td>83.680556</td>\n",
       "    </tr>\n",
       "    <tr>\n",
       "      <th>23</th>\n",
       "      <td>Other</td>\n",
       "      <td>Medium</td>\n",
       "      <td>332</td>\n",
       "      <td>12.808642</td>\n",
       "    </tr>\n",
       "  </tbody>\n",
       "</table>\n",
       "</div>"
      ],
      "text/plain": [
       "    Ethnic_Code_Text ScoreText  count  count_percentage\n",
       "0   African-American      High   4560         16.845838\n",
       "1   African-American       Low  15485         57.205660\n",
       "2   African-American    Medium   7008         25.889394\n",
       "3             Arabic      High      5          6.666667\n",
       "4             Arabic       Low     58         77.333333\n",
       "5             Arabic    Medium     12         16.000000\n",
       "6              Asian      High     14          4.320988\n",
       "7              Asian       Low    278         85.802469\n",
       "8              Asian    Medium     32          9.876543\n",
       "9          Caucasian      High   1648          7.565533\n",
       "10         Caucasian       Low  16361         75.109030\n",
       "11         Caucasian    Medium   3756         17.242804\n",
       "12          Hispanic      High    473          5.410661\n",
       "13          Hispanic       Low   6963         79.649966\n",
       "14          Hispanic    Medium   1297         14.836422\n",
       "15   Native American      High     32         14.611872\n",
       "16   Native American       Low    140         63.926941\n",
       "17   Native American    Medium     47         21.461187\n",
       "18          Oriental      High      2          5.128205\n",
       "19          Oriental       Low     33         84.615385\n",
       "20          Oriental    Medium      4         10.256410\n",
       "21             Other      High     89          3.433642\n",
       "22             Other       Low   2169         83.680556\n",
       "23             Other    Medium    332         12.808642"
      ]
     },
     "execution_count": 8,
     "metadata": {},
     "output_type": "execute_result"
    }
   ],
   "source": [
    "text_by_race = df.groupby(['Ethnic_Code_Text', 'ScoreText'], sort=True).size().reset_index()\n",
    "text_by_race = text_by_race.rename(columns={0:'count'})\n",
    "text_by_race[['count']] = text_by_race[['count']].apply(pd.to_numeric)\n",
    "gb = df.groupby(['Ethnic_Code_Text']).size().reset_index()\n",
    "gb_d = gb.set_index('Ethnic_Code_Text').to_dict().get(0)\n",
    "text_by_race['count_percentage'] = text_by_race.apply(lambda x: ((int(x['count'])/int(gb_d.get(x['Ethnic_Code_Text']))) * 100), axis=1)\n",
    "text_by_race"
   ]
  },
  {
   "cell_type": "code",
   "execution_count": 9,
   "metadata": {},
   "outputs": [
    {
     "data": {
      "text/plain": [
       "ScoreText  RecSupervisionLevelText           \n",
       "High       High                                   2984\n",
       "           Low                                     327\n",
       "           Medium                                  352\n",
       "           Medium with Override Consideration     3160\n",
       "Low        High                                    718\n",
       "           Low                                   34362\n",
       "           Medium                                 4326\n",
       "           Medium with Override Consideration     2081\n",
       "Medium     High                                    366\n",
       "           Low                                    3744\n",
       "           Medium                                 5793\n",
       "           Medium with Override Consideration     2585\n",
       "Name: Person_ID, dtype: int64"
      ]
     },
     "execution_count": 9,
     "metadata": {},
     "output_type": "execute_result"
    },
    {
     "data": {
      "image/png": "[encoded data removed]",
      "text/plain": [
       "<Figure size 432x288 with 1 Axes>"
      ]
     },
     "metadata": {
      "needs_background": "light"
     },
     "output_type": "display_data"
    }
   ],
   "source": [
    "text_by_race['count_percentage'] = text_by_race.apply(lambda x: ((int(x['count'])/int(gb_d.get(x['Ethnic_Code_Text']))) * 100), axis=1)\n",
    "recid_by_race = df.groupby(['Ethnic_Code_Text', 'ScoreText', 'RecSupervisionLevelText'], sort=True).size().reset_index()\n",
    "recid_by_race = recid_by_race.rename(columns={0:'count'})\n",
    "r_sum = df.groupby(['Ethnic_Code_Text', 'ScoreText']).size().reset_index()\n",
    "r_sum = r_sum.rename(columns={0:'count'})\n",
    "r_sum['index'] = r_sum.apply(lambda x: x['Ethnic_Code_Text'] + '-' + x['ScoreText'], axis=1)\n",
    "r_sum = r_sum.drop(['Ethnic_Code_Text', 'ScoreText'], axis=1)\n",
    "r_sum_dict = r_sum.set_index('index').to_dict().get('count')\n",
    "recid_by_race['count_percentage'] = recid_by_race.apply(lambda x: ((int(x['count'])/int(r_sum_dict.get(x['Ethnic_Code_Text'] + '-' + x['ScoreText']))) * 100), axis=1)\n",
    "pt = recid_by_race.pivot_table('count_percentage', ['Ethnic_Code_Text', 'ScoreText'], 'RecSupervisionLevelText')\n",
    "pt.plot.bar()\n",
    "df.groupby(['ScoreText','RecSupervisionLevelText'])['Person_ID'].count()"
   ]
  },
  {
   "cell_type": "code",
   "execution_count": 10,
   "metadata": {},
   "outputs": [
    {
     "data": {
      "text/plain": [
       "<AxesSubplot:xlabel='Ethnic_Code_Text'>"
      ]
     },
     "execution_count": 10,
     "metadata": {},
     "output_type": "execute_result"
    },
    {
     "data": {
      "image/png": "[encoded data removed]",
      "text/plain": [
       "<Figure size 432x288 with 1 Axes>"
      ]
     },
     "metadata": {
      "needs_background": "light"
     },
     "output_type": "display_data"
    }
   ],
   "source": [
    "decile_by_race = df.groupby(['Ethnic_Code_Text'], sort=True)['DecileScore'].mean()\n",
    "decile_by_race.plot(kind='bar')"
   ]
  },
  {
   "cell_type": "code",
   "execution_count": 11,
   "metadata": {},
   "outputs": [
    {
     "data": {
      "text/plain": [
       "<AxesSubplot:title={'center':'Mean Prior Count By Race'}, xlabel='Ethnic_Code_Text'>"
      ]
     },
     "execution_count": 11,
     "metadata": {},
     "output_type": "execute_result"
    },
    {
     "data": {
      "image/png": "[encoded data removed]",
      "text/plain": [
       "<Figure size 432x288 with 1 Axes>"
      ]
     },
     "metadata": {
      "needs_background": "light"
     },
     "output_type": "display_data"
    }
   ],
   "source": [
    "priors = df.groupby(['Ethnic_Code_Text'], sort=True)['RecSupervisionLevel'].mean()\n",
    "my_colors = [(x/10.0, x/20.0, 0.75) for x in range(9)]\n",
    "priors.plot(kind='bar', title='Mean Prior Count By Race', ylim=(0,6), color=my_colors)"
   ]
  },
  {
   "cell_type": "markdown",
   "metadata": {},
   "source": [
    "## Data preparation"
   ]
  },
  {
   "cell_type": "code",
   "execution_count": 12,
   "metadata": {},
   "outputs": [
    {
     "name": "stdout",
     "output_type": "stream",
     "text": [
      "<class 'pandas.core.frame.DataFrame'>\n",
      "RangeIndex: 60843 entries, 0 to 60842\n",
      "Data columns (total 28 columns):\n",
      " #   Column                   Non-Null Count  Dtype  \n",
      "---  ------                   --------------  -----  \n",
      " 0   Person_ID                60843 non-null  int64  \n",
      " 1   AssessmentID             60843 non-null  int64  \n",
      " 2   Case_ID                  60843 non-null  int64  \n",
      " 3   Agency_Text              60843 non-null  object \n",
      " 4   LastName                 60843 non-null  object \n",
      " 5   FirstName                60843 non-null  object \n",
      " 6   MiddleName               15624 non-null  object \n",
      " 7   Sex_Code_Text            60843 non-null  object \n",
      " 8   Ethnic_Code_Text         60843 non-null  object \n",
      " 9   DateOfBirth              60843 non-null  object \n",
      " 10  ScaleSet_ID              60843 non-null  int64  \n",
      " 11  ScaleSet                 60843 non-null  object \n",
      " 12  AssessmentReason         60843 non-null  object \n",
      " 13  Language                 60843 non-null  object \n",
      " 14  LegalStatus              60843 non-null  object \n",
      " 15  CustodyStatus            60843 non-null  object \n",
      " 16  MaritalStatus            60843 non-null  object \n",
      " 17  Screening_Date           60843 non-null  object \n",
      " 18  RecSupervisionLevel      60843 non-null  int64  \n",
      " 19  RecSupervisionLevelText  60843 non-null  object \n",
      " 20  Scale_ID                 60843 non-null  int64  \n",
      " 21  DisplayText              60843 non-null  object \n",
      " 22  RawScore                 60843 non-null  float64\n",
      " 23  DecileScore              60843 non-null  int64  \n",
      " 24  ScoreText                60798 non-null  object \n",
      " 25  AssessmentType           60843 non-null  object \n",
      " 26  IsCompleted              60843 non-null  int64  \n",
      " 27  IsDeleted                60843 non-null  int64  \n",
      "dtypes: float64(1), int64(9), object(18)\n",
      "memory usage: 13.0+ MB\n"
     ]
    }
   ],
   "source": [
    "df.info()"
   ]
  },
  {
   "cell_type": "code",
   "execution_count": 13,
   "metadata": {},
   "outputs": [
    {
     "data": {
      "text/html": [
       "<div>\n",
       "<style scoped>\n",
       "    .dataframe tbody tr th:only-of-type {\n",
       "        vertical-align: middle;\n",
       "    }\n",
       "\n",
       "    .dataframe tbody tr th {\n",
       "        vertical-align: top;\n",
       "    }\n",
       "\n",
       "    .dataframe thead th {\n",
       "        text-align: right;\n",
       "    }\n",
       "</style>\n",
       "<table border=\"1\" class=\"dataframe\">\n",
       "  <thead>\n",
       "    <tr style=\"text-align: right;\">\n",
       "      <th></th>\n",
       "      <th>Agency_Text</th>\n",
       "      <th>Sex_Code_Text</th>\n",
       "      <th>Ethnic_Code_Text</th>\n",
       "      <th>ScaleSet</th>\n",
       "      <th>AssessmentReason</th>\n",
       "      <th>Language</th>\n",
       "      <th>LegalStatus</th>\n",
       "      <th>CustodyStatus</th>\n",
       "      <th>MaritalStatus</th>\n",
       "      <th>RecSupervisionLevel</th>\n",
       "      <th>RecSupervisionLevelText</th>\n",
       "      <th>DisplayText</th>\n",
       "      <th>DecileScore</th>\n",
       "    </tr>\n",
       "  </thead>\n",
       "  <tbody>\n",
       "    <tr>\n",
       "      <th>0</th>\n",
       "      <td>PRETRIAL</td>\n",
       "      <td>Male</td>\n",
       "      <td>Caucasian</td>\n",
       "      <td>Risk and Prescreen</td>\n",
       "      <td>Intake</td>\n",
       "      <td>English</td>\n",
       "      <td>Pretrial</td>\n",
       "      <td>Jail Inmate</td>\n",
       "      <td>Single</td>\n",
       "      <td>1</td>\n",
       "      <td>Low</td>\n",
       "      <td>Risk of Violence</td>\n",
       "      <td>4</td>\n",
       "    </tr>\n",
       "    <tr>\n",
       "      <th>1</th>\n",
       "      <td>PRETRIAL</td>\n",
       "      <td>Male</td>\n",
       "      <td>Caucasian</td>\n",
       "      <td>Risk and Prescreen</td>\n",
       "      <td>Intake</td>\n",
       "      <td>English</td>\n",
       "      <td>Pretrial</td>\n",
       "      <td>Jail Inmate</td>\n",
       "      <td>Single</td>\n",
       "      <td>1</td>\n",
       "      <td>Low</td>\n",
       "      <td>Risk of Recidivism</td>\n",
       "      <td>2</td>\n",
       "    </tr>\n",
       "    <tr>\n",
       "      <th>2</th>\n",
       "      <td>PRETRIAL</td>\n",
       "      <td>Male</td>\n",
       "      <td>Caucasian</td>\n",
       "      <td>Risk and Prescreen</td>\n",
       "      <td>Intake</td>\n",
       "      <td>English</td>\n",
       "      <td>Pretrial</td>\n",
       "      <td>Jail Inmate</td>\n",
       "      <td>Single</td>\n",
       "      <td>1</td>\n",
       "      <td>Low</td>\n",
       "      <td>Risk of Failure to Appear</td>\n",
       "      <td>1</td>\n",
       "    </tr>\n",
       "    <tr>\n",
       "      <th>3</th>\n",
       "      <td>PRETRIAL</td>\n",
       "      <td>Male</td>\n",
       "      <td>Caucasian</td>\n",
       "      <td>Risk and Prescreen</td>\n",
       "      <td>Intake</td>\n",
       "      <td>English</td>\n",
       "      <td>Pretrial</td>\n",
       "      <td>Jail Inmate</td>\n",
       "      <td>Married</td>\n",
       "      <td>1</td>\n",
       "      <td>Low</td>\n",
       "      <td>Risk of Violence</td>\n",
       "      <td>2</td>\n",
       "    </tr>\n",
       "    <tr>\n",
       "      <th>4</th>\n",
       "      <td>PRETRIAL</td>\n",
       "      <td>Male</td>\n",
       "      <td>Caucasian</td>\n",
       "      <td>Risk and Prescreen</td>\n",
       "      <td>Intake</td>\n",
       "      <td>English</td>\n",
       "      <td>Pretrial</td>\n",
       "      <td>Jail Inmate</td>\n",
       "      <td>Married</td>\n",
       "      <td>1</td>\n",
       "      <td>Low</td>\n",
       "      <td>Risk of Recidivism</td>\n",
       "      <td>1</td>\n",
       "    </tr>\n",
       "  </tbody>\n",
       "</table>\n",
       "</div>"
      ],
      "text/plain": [
       "  Agency_Text Sex_Code_Text Ethnic_Code_Text            ScaleSet   \n",
       "0    PRETRIAL          Male        Caucasian  Risk and Prescreen  \\\n",
       "1    PRETRIAL          Male        Caucasian  Risk and Prescreen   \n",
       "2    PRETRIAL          Male        Caucasian  Risk and Prescreen   \n",
       "3    PRETRIAL          Male        Caucasian  Risk and Prescreen   \n",
       "4    PRETRIAL          Male        Caucasian  Risk and Prescreen   \n",
       "\n",
       "  AssessmentReason Language LegalStatus CustodyStatus MaritalStatus   \n",
       "0           Intake  English    Pretrial   Jail Inmate        Single  \\\n",
       "1           Intake  English    Pretrial   Jail Inmate        Single   \n",
       "2           Intake  English    Pretrial   Jail Inmate        Single   \n",
       "3           Intake  English    Pretrial   Jail Inmate       Married   \n",
       "4           Intake  English    Pretrial   Jail Inmate       Married   \n",
       "\n",
       "   RecSupervisionLevel RecSupervisionLevelText                DisplayText   \n",
       "0                    1                     Low           Risk of Violence  \\\n",
       "1                    1                     Low         Risk of Recidivism   \n",
       "2                    1                     Low  Risk of Failure to Appear   \n",
       "3                    1                     Low           Risk of Violence   \n",
       "4                    1                     Low         Risk of Recidivism   \n",
       "\n",
       "   DecileScore  \n",
       "0            4  \n",
       "1            2  \n",
       "2            1  \n",
       "3            2  \n",
       "4            1  "
      ]
     },
     "execution_count": 13,
     "metadata": {},
     "output_type": "execute_result"
    }
   ],
   "source": [
    "df = df.drop(['Person_ID', 'AssessmentID', 'Case_ID', 'LastName', 'FirstName', 'MiddleName', 'DateOfBirth', 'ScaleSet_ID', 'Screening_Date', 'Scale_ID', 'IsCompleted', 'IsDeleted', 'AssessmentType', 'ScoreText', 'RawScore'], axis=1)\n",
    "df.head()"
   ]
  },
  {
   "cell_type": "code",
   "execution_count": 14,
   "metadata": {},
   "outputs": [
    {
     "data": {
      "text/html": [
       "<div>\n",
       "<style scoped>\n",
       "    .dataframe tbody tr th:only-of-type {\n",
       "        vertical-align: middle;\n",
       "    }\n",
       "\n",
       "    .dataframe tbody tr th {\n",
       "        vertical-align: top;\n",
       "    }\n",
       "\n",
       "    .dataframe thead th {\n",
       "        text-align: right;\n",
       "    }\n",
       "</style>\n",
       "<table border=\"1\" class=\"dataframe\">\n",
       "  <thead>\n",
       "    <tr style=\"text-align: right;\">\n",
       "      <th></th>\n",
       "      <th>Agency_Text</th>\n",
       "      <th>Sex_Code_Text</th>\n",
       "      <th>Ethnic_Code_Text</th>\n",
       "      <th>ScaleSet</th>\n",
       "      <th>AssessmentReason</th>\n",
       "      <th>Language</th>\n",
       "      <th>LegalStatus</th>\n",
       "      <th>CustodyStatus</th>\n",
       "      <th>MaritalStatus</th>\n",
       "      <th>RecSupervisionLevel</th>\n",
       "      <th>RecSupervisionLevelText</th>\n",
       "      <th>DisplayText</th>\n",
       "      <th>DecileScore</th>\n",
       "    </tr>\n",
       "  </thead>\n",
       "  <tbody>\n",
       "    <tr>\n",
       "      <th>0</th>\n",
       "      <td>2</td>\n",
       "      <td>1</td>\n",
       "      <td>3</td>\n",
       "      <td>1</td>\n",
       "      <td>0</td>\n",
       "      <td>0</td>\n",
       "      <td>5</td>\n",
       "      <td>0</td>\n",
       "      <td>4</td>\n",
       "      <td>1</td>\n",
       "      <td>1</td>\n",
       "      <td>2</td>\n",
       "      <td>4</td>\n",
       "    </tr>\n",
       "    <tr>\n",
       "      <th>1</th>\n",
       "      <td>2</td>\n",
       "      <td>1</td>\n",
       "      <td>3</td>\n",
       "      <td>1</td>\n",
       "      <td>0</td>\n",
       "      <td>0</td>\n",
       "      <td>5</td>\n",
       "      <td>0</td>\n",
       "      <td>4</td>\n",
       "      <td>1</td>\n",
       "      <td>1</td>\n",
       "      <td>1</td>\n",
       "      <td>2</td>\n",
       "    </tr>\n",
       "    <tr>\n",
       "      <th>2</th>\n",
       "      <td>2</td>\n",
       "      <td>1</td>\n",
       "      <td>3</td>\n",
       "      <td>1</td>\n",
       "      <td>0</td>\n",
       "      <td>0</td>\n",
       "      <td>5</td>\n",
       "      <td>0</td>\n",
       "      <td>4</td>\n",
       "      <td>1</td>\n",
       "      <td>1</td>\n",
       "      <td>0</td>\n",
       "      <td>1</td>\n",
       "    </tr>\n",
       "    <tr>\n",
       "      <th>3</th>\n",
       "      <td>2</td>\n",
       "      <td>1</td>\n",
       "      <td>3</td>\n",
       "      <td>1</td>\n",
       "      <td>0</td>\n",
       "      <td>0</td>\n",
       "      <td>5</td>\n",
       "      <td>0</td>\n",
       "      <td>1</td>\n",
       "      <td>1</td>\n",
       "      <td>1</td>\n",
       "      <td>2</td>\n",
       "      <td>2</td>\n",
       "    </tr>\n",
       "    <tr>\n",
       "      <th>4</th>\n",
       "      <td>2</td>\n",
       "      <td>1</td>\n",
       "      <td>3</td>\n",
       "      <td>1</td>\n",
       "      <td>0</td>\n",
       "      <td>0</td>\n",
       "      <td>5</td>\n",
       "      <td>0</td>\n",
       "      <td>1</td>\n",
       "      <td>1</td>\n",
       "      <td>1</td>\n",
       "      <td>1</td>\n",
       "      <td>1</td>\n",
       "    </tr>\n",
       "  </tbody>\n",
       "</table>\n",
       "</div>"
      ],
      "text/plain": [
       "   Agency_Text  Sex_Code_Text  Ethnic_Code_Text  ScaleSet  AssessmentReason   \n",
       "0            2              1                 3         1                 0  \\\n",
       "1            2              1                 3         1                 0   \n",
       "2            2              1                 3         1                 0   \n",
       "3            2              1                 3         1                 0   \n",
       "4            2              1                 3         1                 0   \n",
       "\n",
       "   Language  LegalStatus  CustodyStatus  MaritalStatus  RecSupervisionLevel   \n",
       "0         0            5              0              4                    1  \\\n",
       "1         0            5              0              4                    1   \n",
       "2         0            5              0              4                    1   \n",
       "3         0            5              0              1                    1   \n",
       "4         0            5              0              1                    1   \n",
       "\n",
       "   RecSupervisionLevelText  DisplayText  DecileScore  \n",
       "0                        1            2            4  \n",
       "1                        1            1            2  \n",
       "2                        1            0            1  \n",
       "3                        1            2            2  \n",
       "4                        1            1            1  "
      ]
     },
     "execution_count": 14,
     "metadata": {},
     "output_type": "execute_result"
    }
   ],
   "source": [
    "encoder = preprocessing.LabelEncoder()\n",
    "df[\"Agency_Text\"] = encoder.fit_transform(df[\"Agency_Text\"])\n",
    "df[\"Sex_Code_Text\"] = encoder.fit_transform(df[\"Sex_Code_Text\"])\n",
    "df[\"Ethnic_Code_Text\"] = encoder.fit_transform(df[\"Ethnic_Code_Text\"])\n",
    "df[\"ScaleSet\"] = encoder.fit_transform(df[\"ScaleSet\"])\n",
    "df[\"AssessmentReason\"] = encoder.fit_transform(df[\"AssessmentReason\"])\n",
    "df[\"Language\"] = encoder.fit_transform(df[\"Language\"])\n",
    "df[\"LegalStatus\"] = encoder.fit_transform(df[\"LegalStatus\"])\n",
    "df[\"CustodyStatus\"] = encoder.fit_transform(df[\"CustodyStatus\"])\n",
    "df[\"MaritalStatus\"] = encoder.fit_transform(df[\"MaritalStatus\"])\n",
    "df[\"RecSupervisionLevelText\"] = encoder.fit_transform(df[\"RecSupervisionLevelText\"])\n",
    "df[\"DisplayText\"] = encoder.fit_transform(df[\"DisplayText\"])\n",
    "df.head()"
   ]
  },
  {
   "cell_type": "code",
   "execution_count": 15,
   "metadata": {},
   "outputs": [
    {
     "data": {
      "text/plain": [
       "(60843, 12)"
      ]
     },
     "execution_count": 15,
     "metadata": {},
     "output_type": "execute_result"
    }
   ],
   "source": [
    "X =df.drop(columns=['DecileScore'])\n",
    "X.shape"
   ]
  },
  {
   "cell_type": "code",
   "execution_count": 16,
   "metadata": {},
   "outputs": [
    {
     "data": {
      "text/plain": [
       "(60843,)"
      ]
     },
     "execution_count": 16,
     "metadata": {},
     "output_type": "execute_result"
    }
   ],
   "source": [
    "y = df['DecileScore']\n",
    "y.shape"
   ]
  },
  {
   "cell_type": "code",
   "execution_count": 17,
   "metadata": {},
   "outputs": [],
   "source": [
    "X_train, X_test, y_train, y_test = train_test_split(X, y, test_size=0.25)"
   ]
  },
  {
   "cell_type": "markdown",
   "metadata": {},
   "source": [
    "## Model"
   ]
  },
  {
   "cell_type": "code",
   "execution_count": 18,
   "metadata": {},
   "outputs": [],
   "source": [
    "model = LogisticRegression(max_iter=1000)"
   ]
  },
  {
   "cell_type": "code",
   "execution_count": 19,
   "metadata": {},
   "outputs": [
    {
     "name": "stderr",
     "output_type": "stream",
     "text": [
      "lbfgs failed to converge (status=1):\n",
      "STOP: TOTAL NO. of ITERATIONS REACHED LIMIT.\n",
      "\n",
      "Increase the number of iterations (max_iter) or scale the data as shown in:\n",
      "    https://scikit-learn.org/stable/modules/preprocessing.html\n",
      "Please also refer to the documentation for alternative solver options:\n",
      "    https://scikit-learn.org/stable/modules/linear_model.html#logistic-regression\n"
     ]
    },
    {
     "data": {
      "text/html": [
       "<style>#sk-container-id-1 {color: black;background-color: white;}#sk-container-id-1 pre{padding: 0;}#sk-container-id-1 div.sk-toggleable {background-color: white;}#sk-container-id-1 label.sk-toggleable__label {cursor: pointer;display: block;width: 100%;margin-bottom: 0;padding: 0.3em;box-sizing: border-box;text-align: center;}#sk-container-id-1 label.sk-toggleable__label-arrow:before {content: \"▸\";float: left;margin-right: 0.25em;color: #696969;}#sk-container-id-1 label.sk-toggleable__label-arrow:hover:before {color: black;}#sk-container-id-1 div.sk-estimator:hover label.sk-toggleable__label-arrow:before {color: black;}#sk-container-id-1 div.sk-toggleable__content {max-height: 0;max-width: 0;overflow: hidden;text-align: left;background-color: #f0f8ff;}#sk-container-id-1 div.sk-toggleable__content pre {margin: 0.2em;color: black;border-radius: 0.25em;background-color: #f0f8ff;}#sk-container-id-1 input.sk-toggleable__control:checked~div.sk-toggleable__content {max-height: 200px;max-width: 100%;overflow: auto;}#sk-container-id-1 input.sk-toggleable__control:checked~label.sk-toggleable__label-arrow:before {content: \"▾\";}#sk-container-id-1 div.sk-estimator input.sk-toggleable__control:checked~label.sk-toggleable__label {background-color: #d4ebff;}#sk-container-id-1 div.sk-label input.sk-toggleable__control:checked~label.sk-toggleable__label {background-color: #d4ebff;}#sk-container-id-1 input.sk-hidden--visually {border: 0;clip: rect(1px 1px 1px 1px);clip: rect(1px, 1px, 1px, 1px);height: 1px;margin: -1px;overflow: hidden;padding: 0;position: absolute;width: 1px;}#sk-container-id-1 div.sk-estimator {font-family: monospace;background-color: #f0f8ff;border: 1px dotted black;border-radius: 0.25em;box-sizing: border-box;margin-bottom: 0.5em;}#sk-container-id-1 div.sk-estimator:hover {background-color: #d4ebff;}#sk-container-id-1 div.sk-parallel-item::after {content: \"\";width: 100%;border-bottom: 1px solid gray;flex-grow: 1;}#sk-container-id-1 div.sk-label:hover label.sk-toggleable__label {background-color: #d4ebff;}#sk-container-id-1 div.sk-serial::before {content: \"\";position: absolute;border-left: 1px solid gray;box-sizing: border-box;top: 0;bottom: 0;left: 50%;z-index: 0;}#sk-container-id-1 div.sk-serial {display: flex;flex-direction: column;align-items: center;background-color: white;padding-right: 0.2em;padding-left: 0.2em;position: relative;}#sk-container-id-1 div.sk-item {position: relative;z-index: 1;}#sk-container-id-1 div.sk-parallel {display: flex;align-items: stretch;justify-content: center;background-color: white;position: relative;}#sk-container-id-1 div.sk-item::before, #sk-container-id-1 div.sk-parallel-item::before {content: \"\";position: absolute;border-left: 1px solid gray;box-sizing: border-box;top: 0;bottom: 0;left: 50%;z-index: -1;}#sk-container-id-1 div.sk-parallel-item {display: flex;flex-direction: column;z-index: 1;position: relative;background-color: white;}#sk-container-id-1 div.sk-parallel-item:first-child::after {align-self: flex-end;width: 50%;}#sk-container-id-1 div.sk-parallel-item:last-child::after {align-self: flex-start;width: 50%;}#sk-container-id-1 div.sk-parallel-item:only-child::after {width: 0;}#sk-container-id-1 div.sk-dashed-wrapped {border: 1px dashed gray;margin: 0 0.4em 0.5em 0.4em;box-sizing: border-box;padding-bottom: 0.4em;background-color: white;}#sk-container-id-1 div.sk-label label {font-family: monospace;font-weight: bold;display: inline-block;line-height: 1.2em;}#sk-container-id-1 div.sk-label-container {text-align: center;}#sk-container-id-1 div.sk-container {/* jupyter's `normalize.less` sets `[hidden] { display: none; }` but bootstrap.min.css set `[hidden] { display: none !important; }` so we also need the `!important` here to be able to override the default hidden behavior on the sphinx rendered scikit-learn.org. See: https://github.com/scikit-learn/scikit-learn/issues/21755 */display: inline-block !important;position: relative;}#sk-container-id-1 div.sk-text-repr-fallback {display: none;}</style><div id=\"sk-container-id-1\" class=\"sk-top-container\"><div class=\"sk-text-repr-fallback\"><pre>LogisticRegression(max_iter=1000)</pre><b>In a Jupyter environment, please rerun this cell to show the HTML representation or trust the notebook. <br />On GitHub, the HTML representation is unable to render, please try loading this page with nbviewer.org.</b></div><div class=\"sk-container\" hidden><div class=\"sk-item\"><div class=\"sk-estimator sk-toggleable\"><input class=\"sk-toggleable__control sk-hidden--visually\" id=\"sk-estimator-id-1\" type=\"checkbox\" checked><label for=\"sk-estimator-id-1\" class=\"sk-toggleable__label sk-toggleable__label-arrow\">LogisticRegression</label><div class=\"sk-toggleable__content\"><pre>LogisticRegression(max_iter=1000)</pre></div></div></div></div></div>"
      ],
      "text/plain": [
       "LogisticRegression(max_iter=1000)"
      ]
     },
     "execution_count": 19,
     "metadata": {},
     "output_type": "execute_result"
    }
   ],
   "source": [
    "model.fit(X_train, y_train)"
   ]
  },
  {
   "cell_type": "code",
   "execution_count": 20,
   "metadata": {},
   "outputs": [],
   "source": [
    "y_pred = model.predict(X_test)"
   ]
  },
  {
   "cell_type": "code",
   "execution_count": 21,
   "metadata": {},
   "outputs": [
    {
     "name": "stdout",
     "output_type": "stream",
     "text": [
      "              precision    recall  f1-score   support\n",
      "\n",
      "          -1       0.00      0.00      0.00        10\n",
      "           1       0.42      0.92      0.58      4588\n",
      "           2       1.00      0.00      0.00      2359\n",
      "           3       0.12      0.08      0.10      2081\n",
      "           4       0.18      0.03      0.06      1356\n",
      "           5       0.14      0.03      0.05      1179\n",
      "           6       0.14      0.24      0.18      1049\n",
      "           7       0.15      0.00      0.01       879\n",
      "           8       0.19      0.13      0.15       695\n",
      "           9       0.33      0.38      0.35       601\n",
      "          10       0.14      0.11      0.12       414\n",
      "\n",
      "    accuracy                           0.33     15211\n",
      "   macro avg       0.26      0.17      0.15     15211\n",
      "weighted avg       0.37      0.33      0.23     15211\n",
      "\n"
     ]
    },
    {
     "name": "stderr",
     "output_type": "stream",
     "text": [
      "Precision and F-score are ill-defined and being set to 0.0 in labels with no predicted samples. Use `zero_division` parameter to control this behavior.\n",
      "Precision and F-score are ill-defined and being set to 0.0 in labels with no predicted samples. Use `zero_division` parameter to control this behavior.\n",
      "Precision and F-score are ill-defined and being set to 0.0 in labels with no predicted samples. Use `zero_division` parameter to control this behavior.\n"
     ]
    }
   ],
   "source": [
    "print(classification_report(y_test, y_pred))"
   ]
  },
  {
   "cell_type": "code",
   "execution_count": 41,
   "metadata": {},
   "outputs": [],
   "source": [
    "explainer = shap.Explainer(model, X_train)\n",
    "shap_values = explainer(X_test)"
   ]
  },
  {
   "cell_type": "code",
   "execution_count": 42,
   "metadata": {},
   "outputs": [
    {
     "data": {
      "image/png": "[encoded data removed]",
      "text/plain": [
       "<Figure size 576x540 with 1 Axes>"
      ]
     },
     "metadata": {},
     "output_type": "display_data"
    }
   ],
   "source": [
    "shap.plots.bar(shap_values[:, :, 1], max_display=13)"
   ]
  },
  {
   "cell_type": "code",
   "execution_count": 43,
   "metadata": {},
   "outputs": [
    {
     "data": {
      "image/png": "[encoded data removed]",
      "text/plain": [
       "<Figure size 576x453.6 with 1 Axes>"
      ]
     },
     "metadata": {
      "needs_background": "light"
     },
     "output_type": "display_data"
    }
   ],
   "source": [
    "shap.summary_plot(shap_values[:, :, 1], X, plot_type=\"bar\")"
   ]
  }
 ],
 "metadata": {
  "kernelspec": {
   "display_name": "Python 3",
   "language": "python",
   "name": "python3"
  },
  "language_info": {
   "codemirror_mode": {
    "name": "ipython",
    "version": 3
   },
   "file_extension": ".py",
   "mimetype": "text/x-python",
   "name": "python",
   "nbconvert_exporter": "python",
   "pygments_lexer": "ipython3",
   "version": "3.8.5"
  }
 },
 "nbformat": 4,
 "nbformat_minor": 4
}
